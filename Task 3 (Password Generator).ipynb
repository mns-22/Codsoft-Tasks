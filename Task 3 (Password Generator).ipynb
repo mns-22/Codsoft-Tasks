{
 "cells": [
  {
   "cell_type": "code",
   "execution_count": 7,
   "id": "4978f959",
   "metadata": {},
   "outputs": [
    {
     "name": "stdout",
     "output_type": "stream",
     "text": [
      "How many passwords do you want to generate? 3\n",
      "Provide the password length: 44\n",
      "Password0 generated:-0bg.D/P,*T9{3L)/ME|ZVaF}!rnR%tah*3*YV@,Ki[@\n",
      "Password1 generated:Edmw(.~;E?sor'Gbt87rr[xoeD?x.8_F&k>mz|sob[tP\n",
      "Password2 generated:VPi(]Z@~1,O.FT\\RGSE:vE/WHhjae6qMlg26R.X)GU^l\n"
     ]
    }
   ],
   "source": [
    "import random, string\n",
    "\n",
    "number_of_passwords = int(input(\"How many passwords do you want to generate? \"))\n",
    "password_length = int(input(\"Provide the password length: \"))\n",
    "\n",
    "characters = string.ascii_letters + string.digits + string.punctuation\n",
    "\n",
    "for password_index in range(number_of_passwords):\n",
    "    password = \"\"   \n",
    "\n",
    "    for index in range(password_length):\n",
    "        password = password + random.choice(characters)\n",
    "\n",
    "    print(\"Password{} generated:{}\".format(password_index, password))"
   ]
  },
  {
   "cell_type": "code",
   "execution_count": null,
   "id": "4c956d16",
   "metadata": {},
   "outputs": [],
   "source": []
  }
 ],
 "metadata": {
  "kernelspec": {
   "display_name": "Python 3 (ipykernel)",
   "language": "python",
   "name": "python3"
  },
  "language_info": {
   "codemirror_mode": {
    "name": "ipython",
    "version": 3
   },
   "file_extension": ".py",
   "mimetype": "text/x-python",
   "name": "python",
   "nbconvert_exporter": "python",
   "pygments_lexer": "ipython3",
   "version": "3.9.7"
  }
 },
 "nbformat": 4,
 "nbformat_minor": 5
}
