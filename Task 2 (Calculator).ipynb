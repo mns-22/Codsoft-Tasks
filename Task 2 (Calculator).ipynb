{
 "cells": [
  {
   "cell_type": "code",
   "execution_count": null,
   "id": "d2371822",
   "metadata": {},
   "outputs": [
    {
     "name": "stdout",
     "output_type": "stream",
     "text": [
      "\n",
      "Please Enter the operation you would like to perform:\n",
      "+ for addition\n",
      "- for subtraction\n",
      "* for multiplication\n",
      "/ for division\n",
      "34\n"
     ]
    }
   ],
   "source": [
    "def welcome():\n",
    "    print('''Welcome to Calculator''')\n",
    "\n",
    "# Define our function\n",
    "def calculate():\n",
    "    operation = input('''\n",
    "Please Enter the operation you would like to perform:\n",
    "+ for addition\n",
    "- for subtraction\n",
    "* for multiplication\n",
    "/ for division\n",
    "''')\n",
    "    \n",
    "# Prompt the user for input\n",
    "    num_1 = float(input('Please enter the first number: '))\n",
    "    num_2 = float(input('Please enter the second number: '))\n",
    "\n",
    "    if operation == '+':\n",
    "        print('{} + {} = '.format(num_1, num_2),num_1 + num_2)\n",
    "\n",
    "    elif operation == '-':\n",
    "        print('{} - {} = '.format(num_1, num_2),num_1 - num_2)\n",
    "\n",
    "    elif operation == '*':\n",
    "        print('{} * {} = '.format(num_1, num_2),num_1 * num_2)\n",
    "\n",
    "    elif operation == '/':\n",
    "        print('{} / {} = '.format(num_1, num_2),num_1 / num_2)\n",
    "\n",
    "    else:\n",
    "        print('You have not typed a valid operator, please run the program again.')\n",
    "\n",
    "# Call calculate() outside of the function\n",
    "calculate()"
   ]
  },
  {
   "cell_type": "code",
   "execution_count": null,
   "id": "2b43278d",
   "metadata": {},
   "outputs": [],
   "source": []
  }
 ],
 "metadata": {
  "kernelspec": {
   "display_name": "Python 3 (ipykernel)",
   "language": "python",
   "name": "python3"
  },
  "language_info": {
   "codemirror_mode": {
    "name": "ipython",
    "version": 3
   },
   "file_extension": ".py",
   "mimetype": "text/x-python",
   "name": "python",
   "nbconvert_exporter": "python",
   "pygments_lexer": "ipython3",
   "version": "3.9.7"
  }
 },
 "nbformat": 4,
 "nbformat_minor": 5
}
